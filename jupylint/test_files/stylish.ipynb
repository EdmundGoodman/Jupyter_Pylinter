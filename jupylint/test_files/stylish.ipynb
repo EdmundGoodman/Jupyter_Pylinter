{
 "cells": [
  {
   "cell_type": "markdown",
   "metadata": {},
   "source": [
    "# Fizz Buzz"
   ]
  },
  {
   "cell_type": "code",
   "execution_count": 6,
   "metadata": {
    "collapsed": false
   },
   "outputs": [
    {
     "name": "stdout",
     "output_type": "stream",
     "text": [
      "1\n",
      "2\n",
      "Buzz\n",
      "4\n",
      "Fizz\n",
      "Buzz\n",
      "7\n",
      "8\n",
      "Buzz\n",
      "Fizz\n",
      "11\n",
      "Buzz\n",
      "13\n",
      "14\n",
      "FizzBuzz\n",
      "16\n",
      "17\n",
      "Buzz\n",
      "19\n",
      "Fizz\n"
     ]
    }
   ],
   "source": [
    "\"\"\"A solution to the traditional programming puzzle called FizzBuzz\"\"\"\n",
    "\n",
    "def fizz_buzz(num):\n",
    "    \"\"\"Play FizzBuzz up to the number `num`\"\"\"\n",
    "    for i in range(1, num+1):\n",
    "        flag = True\n",
    "        if i % 5 == 0:\n",
    "            print(\"Fizz\", end=\"\")\n",
    "            flag = False\n",
    "        if i % 3 == 0:\n",
    "            print(\"Buzz\", end=\"\")\n",
    "            flag = False\n",
    "\n",
    "        if flag:\n",
    "            print(i)\n",
    "        else:\n",
    "            print()\n",
    "\n",
    "fizz_buzz(20)"
   ]
  }
 ],
 "metadata": {
  "interpreter": {
   "hash": "8f32123a38ff6045c8fe7204828cb94717b9373d4bc10763cfa57d091a614582"
  },
  "kernelspec": {
   "display_name": "Python 3.9.2 64-bit",
   "name": "python3"
  },
  "language_info": {
   "codemirror_mode": {
    "name": "ipython",
    "version": 3
   },
   "file_extension": ".py",
   "mimetype": "text/x-python",
   "name": "python",
   "nbconvert_exporter": "python",
   "pygments_lexer": "ipython3",
   "version": "3.9.2"
  }
 },
 "nbformat": 4,
 "nbformat_minor": 0
}
